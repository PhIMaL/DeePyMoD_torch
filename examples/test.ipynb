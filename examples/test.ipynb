{
 "cells": [
  {
   "cell_type": "code",
   "execution_count": 5,
   "metadata": {},
   "outputs": [],
   "source": [
    "import tensorflow as tf\n",
    "import datetime"
   ]
  },
  {
   "cell_type": "code",
   "execution_count": 6,
   "metadata": {},
   "outputs": [],
   "source": [
    "mnist = tf.keras.datasets.mnist\n",
    "\n",
    "(x_train, y_train),(x_test, y_test) = mnist.load_data()\n",
    "x_train, x_test = x_train / 255.0, x_test / 255.0\n",
    "\n",
    "def create_model():\n",
    "  return tf.keras.models.Sequential([\n",
    "    tf.keras.layers.Flatten(input_shape=(28, 28), name='layers_flatten'),\n",
    "    tf.keras.layers.Dense(512, activation='relu', name='layers_dense'),\n",
    "    tf.keras.layers.Dropout(0.2, name='layers_dropout'),\n",
    "    tf.keras.layers.Dense(10, activation='softmax', name='layers_dense_2')\n",
    "  ])"
   ]
  },
  {
   "cell_type": "code",
   "execution_count": 7,
   "metadata": {},
   "outputs": [
    {
     "name": "stderr",
     "output_type": "stream",
     "text": [
      "2023-10-19 13:22:06.121795: I tensorflow/core/profiler/lib/profiler_session.cc:131] Profiler session initializing.\n",
      "2023-10-19 13:22:06.121833: I tensorflow/core/profiler/lib/profiler_session.cc:146] Profiler session started.\n",
      "2023-10-19 13:22:06.506406: I tensorflow/core/profiler/lib/profiler_session.cc:164] Profiler session tear down.\n",
      "2023-10-19 13:22:06.506605: I tensorflow/core/profiler/internal/gpu/cupti_tracer.cc:1748] CUPTI activity buffer flushed\n"
     ]
    },
    {
     "name": "stdout",
     "output_type": "stream",
     "text": [
      "Epoch 1/5\n",
      "   1/1875 [..............................] - ETA: 6:06 - loss: 2.4212 - accuracy: 0.0312"
     ]
    },
    {
     "name": "stderr",
     "output_type": "stream",
     "text": [
      "2023-10-19 13:22:06.974034: I tensorflow/core/profiler/lib/profiler_session.cc:131] Profiler session initializing.\n",
      "2023-10-19 13:22:06.974072: I tensorflow/core/profiler/lib/profiler_session.cc:146] Profiler session started.\n"
     ]
    },
    {
     "name": "stdout",
     "output_type": "stream",
     "text": [
      "  67/1875 [>.............................] - ETA: 12s - loss: 0.8793 - accuracy: 0.7411"
     ]
    },
    {
     "name": "stderr",
     "output_type": "stream",
     "text": [
      "2023-10-19 13:22:07.251452: I tensorflow/core/profiler/lib/profiler_session.cc:66] Profiler session collecting data.\n",
      "2023-10-19 13:22:07.251797: I tensorflow/core/profiler/internal/gpu/cupti_tracer.cc:1748] CUPTI activity buffer flushed\n",
      "2023-10-19 13:22:07.263377: I tensorflow/core/profiler/internal/gpu/cupti_collector.cc:673]  GpuTracer has collected 68 callback api events and 65 activity events. \n",
      "2023-10-19 13:22:07.265665: I tensorflow/core/profiler/lib/profiler_session.cc:164] Profiler session tear down.\n",
      "2023-10-19 13:22:07.269267: I tensorflow/core/profiler/rpc/client/save_profile.cc:136] Creating directory: logs/fit/20231019-132206/train/plugins/profile/2023_10_19_13_22_07\n",
      "\n",
      "2023-10-19 13:22:07.271575: I tensorflow/core/profiler/rpc/client/save_profile.cc:142] Dumped gzipped tool data for trace.json.gz to logs/fit/20231019-132206/train/plugins/profile/2023_10_19_13_22_07/hal5.trace.json.gz\n",
      "2023-10-19 13:22:07.274743: I tensorflow/core/profiler/rpc/client/save_profile.cc:136] Creating directory: logs/fit/20231019-132206/train/plugins/profile/2023_10_19_13_22_07\n",
      "\n",
      "2023-10-19 13:22:07.275741: I tensorflow/core/profiler/rpc/client/save_profile.cc:142] Dumped gzipped tool data for memory_profile.json.gz to logs/fit/20231019-132206/train/plugins/profile/2023_10_19_13_22_07/hal5.memory_profile.json.gz\n",
      "2023-10-19 13:22:07.277781: I tensorflow/core/profiler/rpc/client/capture_profile.cc:251] Creating directory: logs/fit/20231019-132206/train/plugins/profile/2023_10_19_13_22_07\n",
      "Dumped tool data for xplane.pb to logs/fit/20231019-132206/train/plugins/profile/2023_10_19_13_22_07/hal5.xplane.pb\n",
      "Dumped tool data for overview_page.pb to logs/fit/20231019-132206/train/plugins/profile/2023_10_19_13_22_07/hal5.overview_page.pb\n",
      "Dumped tool data for input_pipeline.pb to logs/fit/20231019-132206/train/plugins/profile/2023_10_19_13_22_07/hal5.input_pipeline.pb\n",
      "Dumped tool data for tensorflow_stats.pb to logs/fit/20231019-132206/train/plugins/profile/2023_10_19_13_22_07/hal5.tensorflow_stats.pb\n",
      "Dumped tool data for kernel_stats.pb to logs/fit/20231019-132206/train/plugins/profile/2023_10_19_13_22_07/hal5.kernel_stats.pb\n",
      "\n"
     ]
    },
    {
     "name": "stdout",
     "output_type": "stream",
     "text": [
      "1875/1875 [==============================] - 6s 3ms/step - loss: 0.2217 - accuracy: 0.9342 - val_loss: 0.1039 - val_accuracy: 0.9682\n",
      "Epoch 2/5\n",
      "1875/1875 [==============================] - 5s 3ms/step - loss: 0.0990 - accuracy: 0.9698 - val_loss: 0.0788 - val_accuracy: 0.9745\n",
      "Epoch 3/5\n",
      "1875/1875 [==============================] - 5s 3ms/step - loss: 0.0702 - accuracy: 0.9784 - val_loss: 0.0767 - val_accuracy: 0.9763\n",
      "Epoch 4/5\n",
      "1875/1875 [==============================] - 5s 3ms/step - loss: 0.0544 - accuracy: 0.9829 - val_loss: 0.0713 - val_accuracy: 0.9784\n",
      "Epoch 5/5\n",
      "1875/1875 [==============================] - 5s 3ms/step - loss: 0.0424 - accuracy: 0.9858 - val_loss: 0.0723 - val_accuracy: 0.9800\n"
     ]
    },
    {
     "data": {
      "text/plain": [
       "<keras.callbacks.History at 0x7fb80fdd4f70>"
      ]
     },
     "execution_count": 7,
     "metadata": {},
     "output_type": "execute_result"
    }
   ],
   "source": [
    "model = create_model()\n",
    "model.compile(optimizer='adam',\n",
    "              loss='sparse_categorical_crossentropy',\n",
    "              metrics=['accuracy'])\n",
    "\n",
    "log_dir = \"logs/fit/\" + datetime.datetime.now().strftime(\"%Y%m%d-%H%M%S\")\n",
    "tensorboard_callback = tf.keras.callbacks.TensorBoard(log_dir=log_dir, histogram_freq=1)\n",
    "\n",
    "model.fit(x=x_train, \n",
    "          y=y_train, \n",
    "          epochs=5, \n",
    "          validation_data=(x_test, y_test), callbacks=[tensorboard_callback]\n",
    "          )"
   ]
  },
  {
   "cell_type": "code",
   "execution_count": 9,
   "metadata": {},
   "outputs": [
    {
     "name": "stderr",
     "output_type": "stream",
     "text": [
      "UsageError: Line magic function `%tensorboard` not found.\n"
     ]
    }
   ],
   "source": [
    "%tensorboard --logdir logs/fit"
   ]
  },
  {
   "cell_type": "code",
   "execution_count": null,
   "metadata": {},
   "outputs": [],
   "source": []
  }
 ],
 "metadata": {
  "kernelspec": {
   "display_name": "py3.10tf",
   "language": "python",
   "name": "python3"
  },
  "language_info": {
   "codemirror_mode": {
    "name": "ipython",
    "version": 3
   },
   "file_extension": ".py",
   "mimetype": "text/x-python",
   "name": "python",
   "nbconvert_exporter": "python",
   "pygments_lexer": "ipython3",
   "version": "3.9.15"
  }
 },
 "nbformat": 4,
 "nbformat_minor": 2
}
